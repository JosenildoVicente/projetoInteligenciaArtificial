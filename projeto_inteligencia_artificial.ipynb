{
  "nbformat": 4,
  "nbformat_minor": 0,
  "metadata": {
    "colab": {
      "name": "projeto_inteligencia_artificial.ipynb",
      "provenance": [],
      "collapsed_sections": [
        "eW4dir2ijt4T"
      ],
      "authorship_tag": "ABX9TyPlIEzlVPgGO010BQ1Sh6qJ",
      "include_colab_link": true
    },
    "kernelspec": {
      "name": "python3",
      "display_name": "Python 3"
    },
    "language_info": {
      "name": "python"
    }
  },
  "cells": [
    {
      "cell_type": "markdown",
      "metadata": {
        "id": "view-in-github",
        "colab_type": "text"
      },
      "source": [
        "<a href=\"https://colab.research.google.com/github/JosenildoVicente/projetoInteligenciaArtificial/blob/main/projeto_inteligencia_artificial.ipynb\" target=\"_parent\"><img src=\"https://colab.research.google.com/assets/colab-badge.svg\" alt=\"Open In Colab\"/></a>"
      ]
    },
    {
      "cell_type": "code",
      "metadata": {
        "id": "70fywrLZ76O3"
      },
      "source": [
        "import pandas as pd\n",
        "import numpy as np\n",
        "from sklearn.model_selection import train_test_split\n",
        "from sklearn.metrics import accuracy_score\n",
        "from sklearn.neighbors import KNeighborsClassifier\n",
        "from scipy.spatial import distance\n",
        "import statistics\n",
        "import math\n",
        "import time\n",
        "from sklearn.tree import DecisionTreeClassifier"
      ],
      "execution_count": 26,
      "outputs": []
    },
    {
      "cell_type": "markdown",
      "metadata": {
        "id": "qheaa3HZjjTZ"
      },
      "source": [
        "# Download dos dados"
      ]
    },
    {
      "cell_type": "code",
      "metadata": {
        "id": "CxNOW_eh8TjZ"
      },
      "source": [
        "data = {}\n",
        "data['both_test_unbalanced'] = pd.read_csv( 'https://raw.githubusercontent.com/JosenildoVicente/projetoInteligenciaArtificial/main/dataset/Both%20(complete)/both_test_unbalanced.csv', encoding=\"ISO-8859-1\" )\n",
        "data['both_test_balanced'] = pd.read_csv( 'https://raw.githubusercontent.com/JosenildoVicente/projetoInteligenciaArtificial/main/dataset/Both%20(complete)/both_test_balanced.csv', encoding=\"ISO-8859-1\" )\n",
        "data['pcr_unbalanced'] = pd.read_csv( 'https://raw.githubusercontent.com/JosenildoVicente/projetoInteligenciaArtificial/main/dataset/RT-PCR/pcr_unbalanced.csv', encoding=\"ISO-8859-1\" )\n",
        "data['pcr_balanced'] = pd.read_csv( 'https://raw.githubusercontent.com/JosenildoVicente/projetoInteligenciaArtificial/main/dataset/RT-PCR/pcr_balanced.csv', encoding=\"ISO-8859-1\" )\n",
        "data['rapid_unbalanced'] = pd.read_csv( 'https://raw.githubusercontent.com/JosenildoVicente/projetoInteligenciaArtificial/main/dataset/Rapid/rapid_unbalanced.csv', encoding=\"ISO-8859-1\" )\n",
        "data['rapid_balanced'] = pd.read_csv( 'https://raw.githubusercontent.com/JosenildoVicente/projetoInteligenciaArtificial/main/dataset/Rapid/rapid_balanced.csv', encoding=\"ISO-8859-1\" )"
      ],
      "execution_count": 2,
      "outputs": []
    },
    {
      "cell_type": "code",
      "metadata": {
        "id": "Nj8FuGw-f5cC"
      },
      "source": [
        "data['pcr_balanced']"
      ],
      "execution_count": null,
      "outputs": []
    },
    {
      "cell_type": "markdown",
      "metadata": {
        "id": "BedhOwkZ7NXv"
      },
      "source": [
        "#Algoritmos"
      ]
    },
    {
      "cell_type": "markdown",
      "metadata": {
        "id": "x3YmFEfJ9leH"
      },
      "source": [
        "##Criação do Decision Tree"
      ]
    },
    {
      "cell_type": "code",
      "metadata": {
        "id": "idfQMD8o97LB"
      },
      "source": [
        "def my_decisionTree(x_train,x_test,y_train):\n",
        "  time_start = time.time()\n",
        "\n",
        "  clf = DecisionTreeClassifier()\n",
        "  clf = clf.fit(x_train,y_train)\n",
        "  y_model = clf.predict(x_test)\n",
        "\n",
        "  time_total = time.time() - time_start \n",
        "\n",
        "  return [y_model,time_total]"
      ],
      "execution_count": 27,
      "outputs": []
    },
    {
      "cell_type": "markdown",
      "metadata": {
        "id": "JQ1rSOPejw7C"
      },
      "source": [
        "##Criação dos algoritmos KNN"
      ]
    },
    {
      "cell_type": "code",
      "metadata": {
        "id": "3De_CHwrm1qr"
      },
      "source": [
        "def calc_neighbors(k,x_train,x_test,sample):\n",
        "  dists = {}\n",
        "  ind = 0\n",
        "  for sample_train in x_train.index:\n",
        "    dist = distance.euclidean(x_train.loc[sample_train],x_test.loc[sample])\n",
        "    dists[ind] = [dist, sample_train]\n",
        "    ind+=1\n",
        "  k_neigh = sorted(dists, key= dists.get)[:k]\n",
        "  index_neigh = []\n",
        "  for j in k_neigh:\n",
        "    index_neigh.append(dists[j][1])\n",
        "  return index_neigh"
      ],
      "execution_count": 4,
      "outputs": []
    },
    {
      "cell_type": "code",
      "metadata": {
        "id": "OfBwE_d_5zhJ"
      },
      "source": [
        "def calc_class(sample_neighbors,y_train):\n",
        "  out = []\n",
        "\n",
        "  for i in sample_neighbors:\n",
        "    out.append(y_train[i])\n",
        "\n",
        "  try:  \n",
        "    result = statistics.mode(out)\n",
        "  except:\n",
        "    result = out[0]\n",
        "\n",
        "  return result"
      ],
      "execution_count": 5,
      "outputs": []
    },
    {
      "cell_type": "code",
      "metadata": {
        "id": "w9EDuYFsjz91"
      },
      "source": [
        "def my_own_knn(k,x_train,x_test,y_train):\n",
        "  time_start = time.time()\n",
        "\n",
        "  y_model = []\n",
        "\n",
        "  for sample in x_test.index:\n",
        "    sample_neighbors = calc_neighbors(k,x_train,x_test,sample)\n",
        "\n",
        "    sample_class = calc_class(sample_neighbors,y_train)\n",
        "\n",
        "    y_model.append(sample_class)\n",
        "\n",
        "  time_total = time.time() - time_start \n",
        "\n",
        "  return [y_model,time_total]"
      ],
      "execution_count": 37,
      "outputs": []
    },
    {
      "cell_type": "code",
      "metadata": {
        "id": "eVuRb4n4L0tg"
      },
      "source": [
        "def my_knn(k,x_train,x_test,y_train):\n",
        "  time_start = time.time()\n",
        "\n",
        "  model = KNeighborsClassifier(n_neighbors=k, weights='uniform')\n",
        "  model.fit(x_train, y_train)\n",
        "  y_model = model.predict(x_test)\n",
        "  \n",
        "  time_total = time.time() - time_start \n",
        "\n",
        "  return [y_model,time_total]"
      ],
      "execution_count": 32,
      "outputs": []
    },
    {
      "cell_type": "markdown",
      "metadata": {
        "id": "YBpNJIlX9lgJ"
      },
      "source": [
        "##Criação do Random Forests"
      ]
    },
    {
      "cell_type": "code",
      "metadata": {
        "id": "1NOq2S309rqc"
      },
      "source": [
        "def my_randomForests(x_train,x_test,y_train):\n",
        "  pass"
      ],
      "execution_count": 7,
      "outputs": []
    },
    {
      "cell_type": "markdown",
      "metadata": {
        "id": "2hfZNhaS994n"
      },
      "source": [
        "##Criação do SVM"
      ]
    },
    {
      "cell_type": "code",
      "metadata": {
        "id": "LpE_ahH3-BMh"
      },
      "source": [
        "def my_svm():\n",
        "  pass"
      ],
      "execution_count": 8,
      "outputs": []
    },
    {
      "cell_type": "markdown",
      "metadata": {
        "id": "YcQygmpdlP4g"
      },
      "source": [
        "#Rodar algoritmos"
      ]
    },
    {
      "cell_type": "code",
      "metadata": {
        "id": "YC1hwB1ylVwq"
      },
      "source": [
        "x_treino, x_teste, y_treino, y_teste = train_test_split(data['pcr_balanced'].drop('Class',axis=1),data['pcr_balanced']['Class'],test_size=0.25, stratify=data['pcr_balanced']['Class'])"
      ],
      "execution_count": 9,
      "outputs": []
    },
    {
      "cell_type": "code",
      "metadata": {
        "id": "RYd7hzpJlPh-"
      },
      "source": [
        "resultado,tempo = my_own_knn(5,x_treino,x_teste,y_treino)"
      ],
      "execution_count": 38,
      "outputs": []
    },
    {
      "cell_type": "code",
      "metadata": {
        "colab": {
          "base_uri": "https://localhost:8080/"
        },
        "id": "_59K3rWGN0a4",
        "outputId": "b73c8055-b760-4229-b6cd-5a115b266ed1"
      },
      "source": [
        "print(\"Tempo: \",tempo)\n",
        "print(\"Acurácia: \",accuracy_score(y_teste, resultado))"
      ],
      "execution_count": 45,
      "outputs": [
        {
          "output_type": "stream",
          "text": [
            "Tempo:  170.07314229011536\n",
            "Acurácia:  0.9279475982532751\n"
          ],
          "name": "stdout"
        }
      ]
    },
    {
      "cell_type": "code",
      "metadata": {
        "id": "1y2I82-6N7Tw"
      },
      "source": [
        "resultado,tempo = my_knn(5,x_treino,x_teste,y_treino)"
      ],
      "execution_count": 46,
      "outputs": []
    },
    {
      "cell_type": "code",
      "metadata": {
        "colab": {
          "base_uri": "https://localhost:8080/"
        },
        "id": "notTZ8XrOJbI",
        "outputId": "58625585-33cc-43f3-9e94-e1f3197728f2"
      },
      "source": [
        "print(\"Tempo: \",tempo)\n",
        "print(\"Acurácia: \",accuracy_score(y_teste, resultado))"
      ],
      "execution_count": 47,
      "outputs": [
        {
          "output_type": "stream",
          "text": [
            "Tempo:  0.038298845291137695\n",
            "Acurácia:  0.9323144104803494\n"
          ],
          "name": "stdout"
        }
      ]
    },
    {
      "cell_type": "code",
      "metadata": {
        "id": "KYU601m3LQ-j"
      },
      "source": [
        "resultado,tempo = my_decisionTree(x_treino,x_teste,y_treino)"
      ],
      "execution_count": 48,
      "outputs": []
    },
    {
      "cell_type": "code",
      "metadata": {
        "colab": {
          "base_uri": "https://localhost:8080/"
        },
        "id": "y3h-GiwqOKhZ",
        "outputId": "b5cf6749-9d28-4f54-865d-d144958f8a64"
      },
      "source": [
        "print(\"Tempo: \",tempo)\n",
        "print(\"Acurácia: \",accuracy_score(y_teste, resultado))"
      ],
      "execution_count": 49,
      "outputs": [
        {
          "output_type": "stream",
          "text": [
            "Tempo:  0.0062961578369140625\n",
            "Acurácia:  0.9716157205240175\n"
          ],
          "name": "stdout"
        }
      ]
    }
  ]
}