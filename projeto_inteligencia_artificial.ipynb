{
  "nbformat": 4,
  "nbformat_minor": 0,
  "metadata": {
    "colab": {
      "name": "projeto_inteligencia_artificial.ipynb",
      "provenance": [],
      "collapsed_sections": [
        "eW4dir2ijt4T"
      ],
      "authorship_tag": "ABX9TyMwHZmCEfE/wJLnSw3VD3JV",
      "include_colab_link": true
    },
    "kernelspec": {
      "name": "python3",
      "display_name": "Python 3"
    },
    "language_info": {
      "name": "python"
    }
  },
  "cells": [
    {
      "cell_type": "markdown",
      "metadata": {
        "id": "view-in-github",
        "colab_type": "text"
      },
      "source": [
        "<a href=\"https://colab.research.google.com/github/JosenildoVicente/projetoInteligenciaArtificial/blob/main/projeto_inteligencia_artificial.ipynb\" target=\"_parent\"><img src=\"https://colab.research.google.com/assets/colab-badge.svg\" alt=\"Open In Colab\"/></a>"
      ]
    },
    {
      "cell_type": "code",
      "metadata": {
        "id": "70fywrLZ76O3"
      },
      "source": [
        "import pandas as pd\n",
        "import numpy as np\n",
        "from sklearn.model_selection import train_test_split\n",
        "from sklearn.metrics import accuracy_score\n",
        "from sklearn.neighbors import KNeighborsClassifier\n",
        "from scipy.spatial import distance\n",
        "import statistics\n",
        "import math\n",
        "import time"
      ],
      "execution_count": 1,
      "outputs": []
    },
    {
      "cell_type": "markdown",
      "metadata": {
        "id": "qheaa3HZjjTZ"
      },
      "source": [
        "# Download dos dados"
      ]
    },
    {
      "cell_type": "code",
      "metadata": {
        "id": "CxNOW_eh8TjZ"
      },
      "source": [
        "data = {}\n",
        "data['both_test_unbalanced'] = pd.read_csv( 'https://raw.githubusercontent.com/JosenildoVicente/projetoInteligenciaArtificial/main/dataset/Both%20(complete)/both_test_unbalanced.csv', encoding=\"ISO-8859-1\" )\n",
        "data['both_test_balanced'] = pd.read_csv( 'https://raw.githubusercontent.com/JosenildoVicente/projetoInteligenciaArtificial/main/dataset/Both%20(complete)/both_test_balanced.csv', encoding=\"ISO-8859-1\" )\n",
        "data['pcr_unbalanced'] = pd.read_csv( 'https://raw.githubusercontent.com/JosenildoVicente/projetoInteligenciaArtificial/main/dataset/RT-PCR/pcr_unbalanced.csv', encoding=\"ISO-8859-1\" )\n",
        "data['pcr_balanced'] = pd.read_csv( 'https://raw.githubusercontent.com/JosenildoVicente/projetoInteligenciaArtificial/main/dataset/RT-PCR/pcr_balanced.csv', encoding=\"ISO-8859-1\" )\n",
        "data['rapid_unbalanced'] = pd.read_csv( 'https://raw.githubusercontent.com/JosenildoVicente/projetoInteligenciaArtificial/main/dataset/Rapid/rapid_unbalanced.csv', encoding=\"ISO-8859-1\" )\n",
        "data['rapid_balanced'] = pd.read_csv( 'https://raw.githubusercontent.com/JosenildoVicente/projetoInteligenciaArtificial/main/dataset/Rapid/rapid_balanced.csv', encoding=\"ISO-8859-1\" )"
      ],
      "execution_count": 2,
      "outputs": []
    },
    {
      "cell_type": "code",
      "metadata": {
        "id": "Nj8FuGw-f5cC"
      },
      "source": [
        "data['pcr_balanced']"
      ],
      "execution_count": null,
      "outputs": []
    },
    {
      "cell_type": "markdown",
      "metadata": {
        "id": "BedhOwkZ7NXv"
      },
      "source": [
        "#Algoritmos"
      ]
    },
    {
      "cell_type": "markdown",
      "metadata": {
        "id": "x3YmFEfJ9leH"
      },
      "source": [
        "##Criação do Decision Tree"
      ]
    },
    {
      "cell_type": "code",
      "metadata": {
        "id": "idfQMD8o97LB"
      },
      "source": [
        "def my_decisionTree():\n",
        "  pass"
      ],
      "execution_count": null,
      "outputs": []
    },
    {
      "cell_type": "markdown",
      "metadata": {
        "id": "JQ1rSOPejw7C"
      },
      "source": [
        "##Criação do algoritmo KNN"
      ]
    },
    {
      "cell_type": "code",
      "metadata": {
        "id": "3De_CHwrm1qr"
      },
      "source": [
        "def calc_neighbors(k,x_train,x_test,sample):\n",
        "  dists = {}\n",
        "  ind = 0\n",
        "  for sample_train in x_train.index:\n",
        "    dist = distance.euclidean(x_train.loc[sample_train],x_test.loc[sample])\n",
        "    dists[ind] = [dist, sample_train]\n",
        "    ind+=1\n",
        "  k_neigh = sorted(dists, key= dists.get)[:k]\n",
        "  index_neigh = []\n",
        "  for j in k_neigh:\n",
        "    index_neigh.append(dists[j][1])\n",
        "  return index_neigh"
      ],
      "execution_count": 4,
      "outputs": []
    },
    {
      "cell_type": "code",
      "metadata": {
        "id": "OfBwE_d_5zhJ"
      },
      "source": [
        "def calc_class(sample_neighbors,y_train):\n",
        "  out = []\n",
        "\n",
        "  for i in sample_neighbors:\n",
        "    out.append(y_train[i])\n",
        "\n",
        "  try:  \n",
        "    result = statistics.mode(out)\n",
        "  except:\n",
        "    result = out[0]\n",
        "\n",
        "  return result"
      ],
      "execution_count": 5,
      "outputs": []
    },
    {
      "cell_type": "code",
      "metadata": {
        "id": "w9EDuYFsjz91"
      },
      "source": [
        "def my_knn(k,x_train,x_test,y_train):\n",
        "  time_start = time.time()\n",
        "\n",
        "  y_model = []\n",
        "\n",
        "  for sample in x_test.index:\n",
        "    sample_neighbors = calc_neighbors(k,x_train,x_test,sample)\n",
        "\n",
        "    sample_class = calc_class(sample_neighbors,y_train)\n",
        "\n",
        "    y_model.append(sample_class)\n",
        "\n",
        "  time_total = time.time() - time_start \n",
        "\n",
        "  return [y_model,time_total]"
      ],
      "execution_count": 6,
      "outputs": []
    },
    {
      "cell_type": "markdown",
      "metadata": {
        "id": "YBpNJIlX9lgJ"
      },
      "source": [
        "##Criação do Random Forests"
      ]
    },
    {
      "cell_type": "code",
      "metadata": {
        "id": "1NOq2S309rqc"
      },
      "source": [
        "def my_randomForests(x_train,x_test,y_train):\n",
        "  pass"
      ],
      "execution_count": 7,
      "outputs": []
    },
    {
      "cell_type": "markdown",
      "metadata": {
        "id": "2hfZNhaS994n"
      },
      "source": [
        "##Criação do SVM"
      ]
    },
    {
      "cell_type": "code",
      "metadata": {
        "id": "LpE_ahH3-BMh"
      },
      "source": [
        "def my_svm():\n",
        "  pass"
      ],
      "execution_count": 8,
      "outputs": []
    },
    {
      "cell_type": "markdown",
      "metadata": {
        "id": "YcQygmpdlP4g"
      },
      "source": [
        "#Rodar algoritmos"
      ]
    },
    {
      "cell_type": "code",
      "metadata": {
        "id": "YC1hwB1ylVwq"
      },
      "source": [
        "x_treino, x_teste, y_treino, y_teste = train_test_split(data['pcr_balanced'].drop('Class',axis=1),data['pcr_balanced']['Class'],test_size=0.25, stratify=data['pcr_balanced']['Class'])"
      ],
      "execution_count": 9,
      "outputs": []
    },
    {
      "cell_type": "code",
      "metadata": {
        "id": "mQ5C5VP4lwhZ"
      },
      "source": [
        "x_treino"
      ],
      "execution_count": null,
      "outputs": []
    },
    {
      "cell_type": "code",
      "metadata": {
        "colab": {
          "base_uri": "https://localhost:8080/"
        },
        "id": "FC1vIflQrcG1",
        "outputId": "0d94f268-aeaf-454c-a8b9-1778ee578404"
      },
      "source": [
        "x_treino.loc[x_treino.index[0]]"
      ],
      "execution_count": 11,
      "outputs": [
        {
          "output_type": "execute_result",
          "data": {
            "text/plain": [
              "Symptom- Throat Pain              1\n",
              "Symptom- Dyspnea                  1\n",
              "Symptom- Fever                    1\n",
              "Symptom- Cough                    0\n",
              "Symptom- Headache                 1\n",
              "Symptom- Taste Disorders          1\n",
              "Symptom- Olfactory Disorders      1\n",
              "Symptom- Coryza                   1\n",
              "Gender                            1\n",
              "Are you a health professional?    1\n",
              "Name: 1487, dtype: int64"
            ]
          },
          "metadata": {},
          "execution_count": 11
        }
      ]
    },
    {
      "cell_type": "code",
      "metadata": {
        "id": "RYd7hzpJlPh-"
      },
      "source": [
        "resultado,tempo = my_knn(5,x_treino,x_teste,y_treino)"
      ],
      "execution_count": 17,
      "outputs": []
    },
    {
      "cell_type": "code",
      "metadata": {
        "id": "e_XTJJ927hNf"
      },
      "source": [
        "result_knn_3 = resultado"
      ],
      "execution_count": 13,
      "outputs": []
    },
    {
      "cell_type": "code",
      "metadata": {
        "colab": {
          "base_uri": "https://localhost:8080/"
        },
        "id": "ifUmDwPtC2Xp",
        "outputId": "d906c0de-5b76-4c57-92d4-f4e6c7fd0d2c"
      },
      "source": [
        "tempo"
      ],
      "execution_count": 22,
      "outputs": [
        {
          "output_type": "execute_result",
          "data": {
            "text/plain": [
              "170.9317581653595"
            ]
          },
          "metadata": {},
          "execution_count": 22
        }
      ]
    },
    {
      "cell_type": "code",
      "metadata": {
        "colab": {
          "base_uri": "https://localhost:8080/"
        },
        "id": "_zCDhP5z8_bs",
        "outputId": "734d9f2d-f4f8-48eb-88e2-684029509460"
      },
      "source": [
        "accuracy_score(y_teste, resultado)"
      ],
      "execution_count": 18,
      "outputs": [
        {
          "output_type": "execute_result",
          "data": {
            "text/plain": [
              "0.9279475982532751"
            ]
          },
          "metadata": {},
          "execution_count": 18
        }
      ]
    },
    {
      "cell_type": "markdown",
      "metadata": {
        "id": "eW4dir2ijt4T"
      },
      "source": [
        "#Ignorar os de baixo\n"
      ]
    },
    {
      "cell_type": "code",
      "metadata": {
        "id": "BaVfGWfv8ZT2"
      },
      "source": [
        "# data[data['Symptom- Coryza']==1][data['Symptom- Headache']==1][data['Symptom- Cough']==1][data['Symptom- Taste Disorders']==1][data['Symptom- Olfactory Disorders']==1][data['Symptom- Throat Pain'] == 1][data['Symptom- Dyspnea'] == 1][data['Symptom- Fever']==1]"
      ],
      "execution_count": null,
      "outputs": []
    },
    {
      "cell_type": "code",
      "metadata": {
        "id": "TB9O92UTD9OD"
      },
      "source": [
        "# x_treino, x_teste, y_treino, y_teste = train_test_split(data.drop('Class',axis=1),data['Class'],test_size=0.25, stratify=data['Class'])\n",
        "# print(x_treino.shape,x_teste.shape)"
      ],
      "execution_count": null,
      "outputs": []
    },
    {
      "cell_type": "code",
      "metadata": {
        "id": "dEZRnxWdCEjt"
      },
      "source": [
        "# K = 5"
      ],
      "execution_count": null,
      "outputs": []
    },
    {
      "cell_type": "code",
      "metadata": {
        "id": "XNZV7w5oBGTg"
      },
      "source": [
        "# modelo = KNeighborsClassifier(n_neighbors=K, weights='uniform')"
      ],
      "execution_count": null,
      "outputs": []
    },
    {
      "cell_type": "code",
      "metadata": {
        "id": "9OelLEZxCAEq"
      },
      "source": [
        "# modelo.fit(x_treino, y_treino)"
      ],
      "execution_count": null,
      "outputs": []
    },
    {
      "cell_type": "code",
      "metadata": {
        "id": "PowXYZOnCliI"
      },
      "source": [
        "# y_modelo = modelo.predict(x_teste)"
      ],
      "execution_count": null,
      "outputs": []
    },
    {
      "cell_type": "code",
      "metadata": {
        "id": "gsd11zb5DhK5"
      },
      "source": [
        "# acuracia = accuracy_score(y_modelo, y_teste)"
      ],
      "execution_count": null,
      "outputs": []
    },
    {
      "cell_type": "code",
      "metadata": {
        "id": "XEUmGADQDxNu"
      },
      "source": [
        "# acuracia"
      ],
      "execution_count": null,
      "outputs": []
    }
  ]
}