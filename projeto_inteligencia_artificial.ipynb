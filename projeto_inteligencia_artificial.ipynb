{
  "nbformat": 4,
  "nbformat_minor": 0,
  "metadata": {
    "colab": {
      "name": "projeto_inteligencia_artificial.ipynb",
      "provenance": [],
      "collapsed_sections": [
        "G5CCw7K3SVG4",
        "x3YmFEfJ9leH",
        "JQ1rSOPejw7C",
        "YBpNJIlX9lgJ",
        "2hfZNhaS994n",
        "IVav6BytAyRg"
      ],
      "authorship_tag": "ABX9TyPK72zeoYIzR6JznFiWg4Qy",
      "include_colab_link": true
    },
    "kernelspec": {
      "name": "python3",
      "display_name": "Python 3"
    },
    "language_info": {
      "name": "python"
    }
  },
  "cells": [
    {
      "cell_type": "markdown",
      "metadata": {
        "id": "view-in-github",
        "colab_type": "text"
      },
      "source": [
        "<a href=\"https://colab.research.google.com/github/JosenildoVicente/projetoInteligenciaArtificial/blob/main/projeto_inteligencia_artificial.ipynb\" target=\"_parent\"><img src=\"https://colab.research.google.com/assets/colab-badge.svg\" alt=\"Open In Colab\"/></a>"
      ]
    },
    {
      "cell_type": "markdown",
      "metadata": {
        "id": "G5CCw7K3SVG4"
      },
      "source": [
        "#Importação das bibliotecas"
      ]
    },
    {
      "cell_type": "code",
      "metadata": {
        "id": "70fywrLZ76O3"
      },
      "source": [
        "import pandas as pd\n",
        "import numpy as np\n",
        "from sklearn.model_selection import train_test_split\n",
        "from sklearn.metrics import accuracy_score\n",
        "from sklearn.neighbors import KNeighborsClassifier\n",
        "from scipy.spatial import distance\n",
        "import statistics\n",
        "import math\n",
        "import time\n",
        "from sklearn.tree import DecisionTreeClassifier\n",
        "from sklearn.ensemble import RandomForestClassifier\n",
        "from sklearn.svm import SVC"
      ],
      "execution_count": 1,
      "outputs": []
    },
    {
      "cell_type": "markdown",
      "metadata": {
        "id": "qheaa3HZjjTZ"
      },
      "source": [
        "# Download dos dados"
      ]
    },
    {
      "cell_type": "code",
      "metadata": {
        "id": "CxNOW_eh8TjZ"
      },
      "source": [
        "data = {}\n",
        "data['both_test_unbalanced'] = pd.read_csv( 'https://raw.githubusercontent.com/JosenildoVicente/projetoInteligenciaArtificial/main/dataset/Both%20(complete)/both_test_unbalanced.csv', encoding=\"ISO-8859-1\" )\n",
        "data['both_test_balanced'] = pd.read_csv( 'https://raw.githubusercontent.com/JosenildoVicente/projetoInteligenciaArtificial/main/dataset/Both%20(complete)/both_test_balanced.csv', encoding=\"ISO-8859-1\" )\n",
        "data['pcr_unbalanced'] = pd.read_csv( 'https://raw.githubusercontent.com/JosenildoVicente/projetoInteligenciaArtificial/main/dataset/RT-PCR/pcr_unbalanced.csv', encoding=\"ISO-8859-1\" )\n",
        "data['pcr_balanced'] = pd.read_csv( 'https://raw.githubusercontent.com/JosenildoVicente/projetoInteligenciaArtificial/main/dataset/RT-PCR/pcr_balanced.csv', encoding=\"ISO-8859-1\" )\n",
        "data['rapid_unbalanced'] = pd.read_csv( 'https://raw.githubusercontent.com/JosenildoVicente/projetoInteligenciaArtificial/main/dataset/Rapid/rapid_unbalanced.csv', encoding=\"ISO-8859-1\" )\n",
        "data['rapid_balanced'] = pd.read_csv( 'https://raw.githubusercontent.com/JosenildoVicente/projetoInteligenciaArtificial/main/dataset/Rapid/rapid_balanced.csv', encoding=\"ISO-8859-1\" )"
      ],
      "execution_count": 2,
      "outputs": []
    },
    {
      "cell_type": "markdown",
      "metadata": {
        "id": "BedhOwkZ7NXv"
      },
      "source": [
        "#Algoritmos"
      ]
    },
    {
      "cell_type": "markdown",
      "metadata": {
        "id": "x3YmFEfJ9leH"
      },
      "source": [
        "##Criação do Decision Tree"
      ]
    },
    {
      "cell_type": "code",
      "metadata": {
        "id": "idfQMD8o97LB"
      },
      "source": [
        "def my_decisionTree(x_train,x_test,y_train):\n",
        "  time_start = time.time()\n",
        "\n",
        "  clf = DecisionTreeClassifier()\n",
        "  clf = clf.fit(x_train,y_train)\n",
        "  y_model = clf.predict(x_test)\n",
        "\n",
        "  time_total = time.time() - time_start \n",
        "\n",
        "  return [y_model,time_total]"
      ],
      "execution_count": 3,
      "outputs": []
    },
    {
      "cell_type": "markdown",
      "metadata": {
        "id": "JQ1rSOPejw7C"
      },
      "source": [
        "##Criação dos KNN"
      ]
    },
    {
      "cell_type": "code",
      "metadata": {
        "id": "3De_CHwrm1qr"
      },
      "source": [
        "def calc_neighbors(k,x_train,x_test,sample):\n",
        "  dists = {}\n",
        "  ind = 0\n",
        "  for sample_train in x_train.index:\n",
        "    dist = distance.euclidean(x_train.loc[sample_train],x_test.loc[sample])\n",
        "    dists[ind] = [dist, sample_train]\n",
        "    ind+=1\n",
        "  k_neigh = sorted(dists, key= dists.get)[:k]\n",
        "  index_neigh = []\n",
        "  for j in k_neigh:\n",
        "    index_neigh.append(dists[j][1])\n",
        "  return index_neigh"
      ],
      "execution_count": 4,
      "outputs": []
    },
    {
      "cell_type": "code",
      "metadata": {
        "id": "OfBwE_d_5zhJ"
      },
      "source": [
        "def calc_class(sample_neighbors,y_train):\n",
        "  out = []\n",
        "\n",
        "  for i in sample_neighbors:\n",
        "    out.append(y_train[i])\n",
        "\n",
        "  try:  \n",
        "    result = statistics.mode(out)\n",
        "  except:\n",
        "    result = out[0]\n",
        "\n",
        "  return result"
      ],
      "execution_count": 5,
      "outputs": []
    },
    {
      "cell_type": "code",
      "metadata": {
        "id": "w9EDuYFsjz91"
      },
      "source": [
        "def my_own_knn(k,x_train,x_test,y_train):\n",
        "  time_start = time.time()\n",
        "\n",
        "  y_model = []\n",
        "\n",
        "  for sample in x_test.index:\n",
        "    sample_neighbors = calc_neighbors(k,x_train,x_test,sample)\n",
        "\n",
        "    sample_class = calc_class(sample_neighbors,y_train)\n",
        "\n",
        "    y_model.append(sample_class)\n",
        "\n",
        "  time_total = time.time() - time_start \n",
        "\n",
        "  return [y_model,time_total]"
      ],
      "execution_count": 6,
      "outputs": []
    },
    {
      "cell_type": "code",
      "metadata": {
        "id": "eVuRb4n4L0tg"
      },
      "source": [
        "def my_knn(k,x_train,x_test,y_train):\n",
        "  time_start = time.time()\n",
        "\n",
        "  model = KNeighborsClassifier(n_neighbors=k, weights='uniform')\n",
        "  model.fit(x_train, y_train)\n",
        "  y_model = model.predict(x_test)\n",
        "  \n",
        "  time_total = time.time() - time_start \n",
        "\n",
        "  return [y_model,time_total]"
      ],
      "execution_count": 7,
      "outputs": []
    },
    {
      "cell_type": "markdown",
      "metadata": {
        "id": "YBpNJIlX9lgJ"
      },
      "source": [
        "##Criação do Random Forests"
      ]
    },
    {
      "cell_type": "code",
      "metadata": {
        "id": "1NOq2S309rqc"
      },
      "source": [
        "def my_randomForests(n,x_train,x_test,y_train):\n",
        "  time_start = time.time()\n",
        "\n",
        "  model = RandomForestClassifier(n_estimators=n)\n",
        "  model.fit(x_train, y_train)\n",
        "  y_model = model.predict(x_test)\n",
        "\n",
        "  time_total = time.time() - time_start \n",
        "\n",
        "  return [y_model,time_total]"
      ],
      "execution_count": 8,
      "outputs": []
    },
    {
      "cell_type": "markdown",
      "metadata": {
        "id": "2hfZNhaS994n"
      },
      "source": [
        "##Criação do SVM"
      ]
    },
    {
      "cell_type": "code",
      "metadata": {
        "id": "LpE_ahH3-BMh"
      },
      "source": [
        "def my_svm(x_train,x_test,y_train):\n",
        "  time_start = time.time()\n",
        "\n",
        "  model = SVC(kernel = 'linear', random_state = 0)\n",
        "  \n",
        "  model.fit(x_train, y_train)\n",
        "  y_model = model.predict(x_test)\n",
        "\n",
        "  time_total = time.time() - time_start \n",
        "\n",
        "  return [y_model,time_total]"
      ],
      "execution_count": 9,
      "outputs": []
    },
    {
      "cell_type": "markdown",
      "metadata": {
        "id": "YcQygmpdlP4g"
      },
      "source": [
        "#Rodar algoritmos"
      ]
    },
    {
      "cell_type": "markdown",
      "metadata": {
        "id": "IVav6BytAyRg"
      },
      "source": [
        "## Separação dos algoritmos"
      ]
    },
    {
      "cell_type": "code",
      "metadata": {
        "id": "YC1hwB1ylVwq"
      },
      "source": [
        "x_train, x_test, y_train, y_test = train_test_split(data['pcr_balanced'].drop('Class',axis=1),data['pcr_balanced']['Class'],test_size=0.25, stratify=data['pcr_balanced']['Class'])"
      ],
      "execution_count": 10,
      "outputs": []
    },
    {
      "cell_type": "markdown",
      "metadata": {
        "id": "qx7bk7IQA2fi"
      },
      "source": [
        "## Funções para melhor separação do código"
      ]
    },
    {
      "cell_type": "code",
      "metadata": {
        "id": "kVFQQQgoABpr"
      },
      "source": [
        "def print_metrics(result, y_test, time):\n",
        "  print(\"   Tempo: \",time)\n",
        "  print(\"   Acurácia: \",accuracy_score(y_test, result))\n",
        "  print(\"\\n\")"
      ],
      "execution_count": 11,
      "outputs": []
    },
    {
      "cell_type": "code",
      "metadata": {
        "id": "waCserAz8YVT"
      },
      "source": [
        "def run_my_knn(k, x_train, x_test, y_train, y_test):\n",
        "  result,time = my_own_knn(k,x_train,x_test,y_train)\n",
        "  print(\"Meu KNN,\",k,\"vizinhos:\")\n",
        "  print_metrics(result,y_test,time)"
      ],
      "execution_count": 12,
      "outputs": []
    },
    {
      "cell_type": "code",
      "metadata": {
        "id": "K0ynrgCy8w1r"
      },
      "source": [
        "def run_knn(k, x_train, x_test, y_train, y_test):\n",
        "  result,time = my_knn(k,x_train,x_test,y_train)\n",
        "  print(\"KNN,\",k,\"vizinhos:\")\n",
        "  print_metrics(result,y_test,time)"
      ],
      "execution_count": 13,
      "outputs": []
    },
    {
      "cell_type": "code",
      "metadata": {
        "id": "8utOnrVECMtS"
      },
      "source": [
        "def run_decisionTree(x_train, x_test, y_train, y_test):\n",
        "  result,time = my_decisionTree(x_train,x_test,y_train)\n",
        "  print(\"Decision Tree:\")\n",
        "  print_metrics(result,y_test,time)"
      ],
      "execution_count": 14,
      "outputs": []
    },
    {
      "cell_type": "code",
      "metadata": {
        "id": "aU9LmvTbCgf5"
      },
      "source": [
        "def run_randomForest(n,x_train, x_test, y_train, y_test):\n",
        "  result,time = my_randomForests(n,x_train,x_test,y_train)\n",
        "  print(\"Random Forests, \",n,\"arvoes:\")\n",
        "  print_metrics(result,y_test,time)"
      ],
      "execution_count": 15,
      "outputs": []
    },
    {
      "cell_type": "code",
      "metadata": {
        "id": "D0I9g0TdECYa"
      },
      "source": [
        "def run_svm(x_train, x_test, y_train, y_test):\n",
        "  result,time = my_svm(x_train,x_test,y_train)\n",
        "  print(\"SVM:\")\n",
        "  print_metrics(result,y_test,time)"
      ],
      "execution_count": 16,
      "outputs": []
    },
    {
      "cell_type": "markdown",
      "metadata": {
        "id": "my0xI7usBBC8"
      },
      "source": [
        "## Resultados dos algoritmos"
      ]
    },
    {
      "cell_type": "code",
      "metadata": {
        "colab": {
          "base_uri": "https://localhost:8080/"
        },
        "id": "DmoRxsH2AWFk",
        "outputId": "2c4df05f-b858-4743-9839-f2c80aac60f8"
      },
      "source": [
        "Ks = [1,5,11,15]\n",
        "Ns = [100,300,500,900,1000]\n",
        "for type_data in data.keys():\n",
        "\n",
        "  print(\"\\n\",\"Rodando algoritmos com o dataset:\",type_data,\"\\n\")\n",
        "\n",
        "  x_train, x_test, y_train, y_test = train_test_split(data[type_data].drop('Class',axis=1),data[type_data]['Class'],test_size=0.25, stratify=data[type_data]['Class'])\n",
        "\n",
        "  # for i in Ks:\n",
        "    # run_my_knn(1,x_train, x_test, y_train, y_test)\n",
        "\n",
        "  for i in Ks:\n",
        "    run_knn(i,x_train, x_test, y_train, y_test)\n",
        "\n",
        "  run_decisionTree(x_train, x_test, y_train, y_test)\n",
        "\n",
        "  for n in Ns:\n",
        "    run_randomForest(n,x_train, x_test, y_train, y_test)\n",
        "\n",
        "  run_svm(x_train, x_test, y_train, y_test)"
      ],
      "execution_count": 17,
      "outputs": [
        {
          "output_type": "stream",
          "text": [
            "\n",
            " Rodando algoritmos com o dataset: both_test_unbalanced \n",
            "\n",
            "KNN, 1 vizinhos:\n",
            "   Tempo:  0.5628392696380615\n",
            "   Acurácia:  0.9137035557331202\n",
            "\n",
            "\n",
            "KNN, 5 vizinhos:\n",
            "   Tempo:  0.6538441181182861\n",
            "   Acurácia:  0.9484618457850579\n",
            "\n",
            "\n",
            "KNN, 11 vizinhos:\n",
            "   Tempo:  0.7289094924926758\n",
            "   Acurácia:  0.9446664003196165\n",
            "\n",
            "\n",
            "KNN, 15 vizinhos:\n",
            "   Tempo:  0.7279305458068848\n",
            "   Acurácia:  0.9406711945665202\n",
            "\n",
            "\n",
            "Decision Tree:\n",
            "   Tempo:  0.012312173843383789\n",
            "   Acurácia:  0.9476628046344386\n",
            "\n",
            "\n",
            "Random Forests,  100 arvoes:\n",
            "   Tempo:  0.5785903930664062\n",
            "   Acurácia:  0.9480623252097483\n",
            "\n",
            "\n",
            "Random Forests,  300 arvoes:\n",
            "   Tempo:  1.7102863788604736\n",
            "   Acurácia:  0.9488613663603676\n",
            "\n",
            "\n",
            "Random Forests,  500 arvoes:\n",
            "   Tempo:  2.857438325881958\n",
            "   Acurácia:  0.9486616060727128\n",
            "\n",
            "\n",
            "Random Forests,  900 arvoes:\n",
            "   Tempo:  5.076848268508911\n",
            "   Acurácia:  0.9492608869356772\n",
            "\n",
            "\n",
            "Random Forests,  1000 arvoes:\n",
            "   Tempo:  5.546690225601196\n",
            "   Acurácia:  0.9492608869356772\n",
            "\n",
            "\n",
            "SVM:\n",
            "   Tempo:  0.9116711616516113\n",
            "   Acurácia:  0.9218937275269676\n",
            "\n",
            "\n",
            "\n",
            " Rodando algoritmos com o dataset: both_test_balanced \n",
            "\n",
            "KNN, 1 vizinhos:\n",
            "   Tempo:  0.0403745174407959\n",
            "   Acurácia:  0.8759590792838875\n",
            "\n",
            "\n",
            "KNN, 5 vizinhos:\n",
            "   Tempo:  0.046250104904174805\n",
            "   Acurácia:  0.8631713554987213\n",
            "\n",
            "\n",
            "KNN, 11 vizinhos:\n",
            "   Tempo:  0.05227494239807129\n",
            "   Acurácia:  0.8759590792838875\n",
            "\n",
            "\n",
            "KNN, 15 vizinhos:\n",
            "   Tempo:  0.05964207649230957\n",
            "   Acurácia:  0.8682864450127877\n",
            "\n",
            "\n",
            "Decision Tree:\n",
            "   Tempo:  0.004973411560058594\n",
            "   Acurácia:  0.8925831202046036\n",
            "\n",
            "\n",
            "Random Forests,  100 arvoes:\n",
            "   Tempo:  0.23289847373962402\n",
            "   Acurácia:  0.8964194373401535\n",
            "\n",
            "\n",
            "Random Forests,  300 arvoes:\n",
            "   Tempo:  0.685856819152832\n",
            "   Acurácia:  0.8964194373401535\n",
            "\n",
            "\n",
            "Random Forests,  500 arvoes:\n",
            "   Tempo:  1.1282544136047363\n",
            "   Acurácia:  0.8951406649616368\n",
            "\n",
            "\n",
            "Random Forests,  900 arvoes:\n",
            "   Tempo:  2.052922487258911\n",
            "   Acurácia:  0.8951406649616368\n",
            "\n",
            "\n",
            "Random Forests,  1000 arvoes:\n",
            "   Tempo:  2.2333788871765137\n",
            "   Acurácia:  0.8964194373401535\n",
            "\n",
            "\n",
            "SVM:\n",
            "   Tempo:  0.08126115798950195\n",
            "   Acurácia:  0.7864450127877238\n",
            "\n",
            "\n",
            "\n",
            " Rodando algoritmos com o dataset: pcr_unbalanced \n",
            "\n",
            "KNN, 1 vizinhos:\n",
            "   Tempo:  0.03490447998046875\n",
            "   Acurácia:  0.9741007194244604\n",
            "\n",
            "\n",
            "KNN, 5 vizinhos:\n",
            "   Tempo:  0.03866839408874512\n",
            "   Acurácia:  0.9453237410071943\n",
            "\n",
            "\n",
            "KNN, 11 vizinhos:\n",
            "   Tempo:  0.05417656898498535\n",
            "   Acurácia:  0.9338129496402877\n",
            "\n",
            "\n",
            "KNN, 15 vizinhos:\n",
            "   Tempo:  0.042928218841552734\n",
            "   Acurácia:  0.9266187050359712\n",
            "\n",
            "\n",
            "Decision Tree:\n",
            "   Tempo:  0.004431962966918945\n",
            "   Acurácia:  0.9669064748201439\n",
            "\n",
            "\n",
            "Random Forests,  100 arvoes:\n",
            "   Tempo:  0.2049083709716797\n",
            "   Acurácia:  0.9697841726618706\n",
            "\n",
            "\n",
            "Random Forests,  300 arvoes:\n",
            "   Tempo:  0.6224977970123291\n",
            "   Acurácia:  0.9697841726618706\n",
            "\n",
            "\n",
            "Random Forests,  500 arvoes:\n",
            "   Tempo:  1.0203394889831543\n",
            "   Acurácia:  0.9697841726618706\n",
            "\n",
            "\n",
            "Random Forests,  900 arvoes:\n",
            "   Tempo:  1.8237957954406738\n",
            "   Acurácia:  0.9697841726618706\n",
            "\n",
            "\n",
            "Random Forests,  1000 arvoes:\n",
            "   Tempo:  2.008354663848877\n",
            "   Acurácia:  0.9697841726618706\n",
            "\n",
            "\n",
            "SVM:\n",
            "   Tempo:  0.0390779972076416\n",
            "   Acurácia:  0.8474820143884892\n",
            "\n",
            "\n",
            "\n",
            " Rodando algoritmos com o dataset: pcr_balanced \n",
            "\n",
            "KNN, 1 vizinhos:\n",
            "   Tempo:  0.021193504333496094\n",
            "   Acurácia:  0.9454148471615721\n",
            "\n",
            "\n",
            "KNN, 5 vizinhos:\n",
            "   Tempo:  0.024199962615966797\n",
            "   Acurácia:  0.9192139737991266\n",
            "\n",
            "\n",
            "KNN, 11 vizinhos:\n",
            "   Tempo:  0.025387287139892578\n",
            "   Acurácia:  0.9148471615720524\n",
            "\n",
            "\n",
            "KNN, 15 vizinhos:\n",
            "   Tempo:  0.03126025199890137\n",
            "   Acurácia:  0.9170305676855895\n",
            "\n",
            "\n",
            "Decision Tree:\n",
            "   Tempo:  0.004702329635620117\n",
            "   Acurácia:  0.9454148471615721\n",
            "\n",
            "\n",
            "Random Forests,  100 arvoes:\n",
            "   Tempo:  0.19074130058288574\n",
            "   Acurácia:  0.9454148471615721\n",
            "\n",
            "\n",
            "Random Forests,  300 arvoes:\n",
            "   Tempo:  0.5517997741699219\n",
            "   Acurácia:  0.9432314410480349\n",
            "\n",
            "\n",
            "Random Forests,  500 arvoes:\n",
            "   Tempo:  0.9084112644195557\n",
            "   Acurácia:  0.9432314410480349\n",
            "\n",
            "\n",
            "Random Forests,  900 arvoes:\n",
            "   Tempo:  1.6097807884216309\n",
            "   Acurácia:  0.9454148471615721\n",
            "\n",
            "\n",
            "Random Forests,  1000 arvoes:\n",
            "   Tempo:  1.7891972064971924\n",
            "   Acurácia:  0.9432314410480349\n",
            "\n",
            "\n",
            "SVM:\n",
            "   Tempo:  0.029720783233642578\n",
            "   Acurácia:  0.8296943231441049\n",
            "\n",
            "\n",
            "\n",
            " Rodando algoritmos com o dataset: rapid_unbalanced \n",
            "\n",
            "KNN, 1 vizinhos:\n",
            "   Tempo:  0.4457106590270996\n",
            "   Acurácia:  0.991881234052424\n",
            "\n",
            "\n",
            "KNN, 5 vizinhos:\n",
            "   Tempo:  0.4994487762451172\n",
            "   Acurácia:  0.9897935513801902\n",
            "\n",
            "\n",
            "KNN, 11 vizinhos:\n",
            "   Tempo:  0.5405368804931641\n",
            "   Acurácia:  0.9835305033634888\n",
            "\n",
            "\n",
            "KNN, 15 vizinhos:\n",
            "   Tempo:  0.5690140724182129\n",
            "   Acurácia:  0.9821387149153329\n",
            "\n",
            "\n",
            "Decision Tree:\n",
            "   Tempo:  0.010235309600830078\n",
            "   Acurácia:  0.9904894456042681\n",
            "\n",
            "\n",
            "Random Forests,  100 arvoes:\n",
            "   Tempo:  0.4634997844696045\n",
            "   Acurácia:  0.9902574808629089\n",
            "\n",
            "\n",
            "Random Forests,  300 arvoes:\n",
            "   Tempo:  1.3645517826080322\n",
            "   Acurácia:  0.9904894456042681\n",
            "\n",
            "\n",
            "Random Forests,  500 arvoes:\n",
            "   Tempo:  2.293954610824585\n",
            "   Acurácia:  0.9904894456042681\n",
            "\n",
            "\n",
            "Random Forests,  900 arvoes:\n",
            "   Tempo:  4.106597661972046\n",
            "   Acurácia:  0.9904894456042681\n",
            "\n",
            "\n",
            "Random Forests,  1000 arvoes:\n",
            "   Tempo:  4.565506219863892\n",
            "   Acurácia:  0.9902574808629089\n",
            "\n",
            "\n",
            "SVM:\n",
            "   Tempo:  0.31437039375305176\n",
            "   Acurácia:  0.9624217118997912\n",
            "\n",
            "\n",
            "\n",
            " Rodando algoritmos com o dataset: rapid_balanced \n",
            "\n",
            "KNN, 1 vizinhos:\n",
            "   Tempo:  0.020595550537109375\n",
            "   Acurácia:  0.9382716049382716\n",
            "\n",
            "\n",
            "KNN, 5 vizinhos:\n",
            "   Tempo:  0.01861858367919922\n",
            "   Acurácia:  0.9351851851851852\n",
            "\n",
            "\n",
            "KNN, 11 vizinhos:\n",
            "   Tempo:  0.0196533203125\n",
            "   Acurácia:  0.904320987654321\n",
            "\n",
            "\n",
            "KNN, 15 vizinhos:\n",
            "   Tempo:  0.020585298538208008\n",
            "   Acurácia:  0.8858024691358025\n",
            "\n",
            "\n",
            "Decision Tree:\n",
            "   Tempo:  0.0035200119018554688\n",
            "   Acurácia:  0.9444444444444444\n",
            "\n",
            "\n",
            "Random Forests,  100 arvoes:\n",
            "   Tempo:  0.17923593521118164\n",
            "   Acurácia:  0.9598765432098766\n",
            "\n",
            "\n",
            "Random Forests,  300 arvoes:\n",
            "   Tempo:  0.5177953243255615\n",
            "   Acurácia:  0.9567901234567902\n",
            "\n",
            "\n",
            "Random Forests,  500 arvoes:\n",
            "   Tempo:  0.8785614967346191\n",
            "   Acurácia:  0.9567901234567902\n",
            "\n",
            "\n",
            "Random Forests,  900 arvoes:\n",
            "   Tempo:  1.5523557662963867\n",
            "   Acurácia:  0.9567901234567902\n",
            "\n",
            "\n",
            "Random Forests,  1000 arvoes:\n",
            "   Tempo:  1.7917346954345703\n",
            "   Acurácia:  0.9598765432098766\n",
            "\n",
            "\n",
            "SVM:\n",
            "   Tempo:  0.011569738388061523\n",
            "   Acurácia:  0.8549382716049383\n",
            "\n",
            "\n"
          ],
          "name": "stdout"
        }
      ]
    }
  ]
}