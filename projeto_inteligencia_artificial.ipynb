{
  "nbformat": 4,
  "nbformat_minor": 0,
  "metadata": {
    "colab": {
      "name": "projeto_inteligencia_artificial.ipynb",
      "provenance": [],
      "collapsed_sections": [
        "JQ1rSOPejw7C",
        "YBpNJIlX9lgJ",
        "2hfZNhaS994n",
        "IVav6BytAyRg"
      ],
      "authorship_tag": "ABX9TyMqwwSkX25WhGF+SmSD81O/",
      "include_colab_link": true
    },
    "kernelspec": {
      "name": "python3",
      "display_name": "Python 3"
    },
    "language_info": {
      "name": "python"
    }
  },
  "cells": [
    {
      "cell_type": "markdown",
      "metadata": {
        "id": "view-in-github",
        "colab_type": "text"
      },
      "source": [
        "<a href=\"https://colab.research.google.com/github/JosenildoVicente/projetoInteligenciaArtificial/blob/main/projeto_inteligencia_artificial.ipynb\" target=\"_parent\"><img src=\"https://colab.research.google.com/assets/colab-badge.svg\" alt=\"Open In Colab\"/></a>"
      ]
    },
    {
      "cell_type": "markdown",
      "metadata": {
        "id": "G5CCw7K3SVG4"
      },
      "source": [
        "#Importação das bibliotecas"
      ]
    },
    {
      "cell_type": "code",
      "metadata": {
        "id": "70fywrLZ76O3"
      },
      "source": [
        "import pandas as pd\n",
        "import numpy as np\n",
        "from sklearn.model_selection import train_test_split\n",
        "from sklearn.metrics import accuracy_score\n",
        "from sklearn.neighbors import KNeighborsClassifier\n",
        "from scipy.spatial import distance\n",
        "import statistics\n",
        "import math\n",
        "import time\n",
        "from sklearn.tree import DecisionTreeClassifier\n",
        "from sklearn.ensemble import RandomForestClassifier\n",
        "from sklearn.svm import SVC"
      ],
      "execution_count": 1,
      "outputs": []
    },
    {
      "cell_type": "markdown",
      "metadata": {
        "id": "qheaa3HZjjTZ"
      },
      "source": [
        "# Download dos dados"
      ]
    },
    {
      "cell_type": "code",
      "metadata": {
        "id": "CxNOW_eh8TjZ"
      },
      "source": [
        "data = {}\n",
        "data['pcr_balanced'] = pd.read_csv( 'https://raw.githubusercontent.com/JosenildoVicente/projetoInteligenciaArtificial/main/dataset/RT-PCR/pcr_balanced.csv', encoding=\"ISO-8859-1\" )\n",
        "data['pcr_unbalanced'] = pd.read_csv( 'https://raw.githubusercontent.com/JosenildoVicente/projetoInteligenciaArtificial/main/dataset/RT-PCR/pcr_unbalanced.csv', encoding=\"ISO-8859-1\" )\n",
        "data['rapid_balanced'] = pd.read_csv( 'https://raw.githubusercontent.com/JosenildoVicente/projetoInteligenciaArtificial/main/dataset/Rapid/rapid_balanced.csv', encoding=\"ISO-8859-1\" )\n",
        "data['rapid_unbalanced'] = pd.read_csv( 'https://raw.githubusercontent.com/JosenildoVicente/projetoInteligenciaArtificial/main/dataset/Rapid/rapid_unbalanced.csv', encoding=\"ISO-8859-1\" )\n",
        "data['both_test_balanced'] = pd.read_csv( 'https://raw.githubusercontent.com/JosenildoVicente/projetoInteligenciaArtificial/main/dataset/Both%20(complete)/both_test_balanced.csv', encoding=\"ISO-8859-1\" )\n",
        "data['both_test_unbalanced'] = pd.read_csv( 'https://raw.githubusercontent.com/JosenildoVicente/projetoInteligenciaArtificial/main/dataset/Both%20(complete)/both_test_unbalanced.csv', encoding=\"ISO-8859-1\" )"
      ],
      "execution_count": 2,
      "outputs": []
    },
    {
      "cell_type": "markdown",
      "metadata": {
        "id": "BedhOwkZ7NXv"
      },
      "source": [
        "#Algoritmos"
      ]
    },
    {
      "cell_type": "markdown",
      "metadata": {
        "id": "x3YmFEfJ9leH"
      },
      "source": [
        "##Criação do Decision Tree"
      ]
    },
    {
      "cell_type": "code",
      "metadata": {
        "id": "idfQMD8o97LB"
      },
      "source": [
        "def my_decisionTree(x_train,x_test,y_train):\n",
        "  time_start = time.time()\n",
        "\n",
        "  clf = DecisionTreeClassifier()\n",
        "  clf = clf.fit(x_train,y_train)\n",
        "  y_model = clf.predict(x_test)\n",
        "\n",
        "  time_total = time.time() - time_start \n",
        "\n",
        "  return [y_model,time_total]"
      ],
      "execution_count": 3,
      "outputs": []
    },
    {
      "cell_type": "markdown",
      "metadata": {
        "id": "JQ1rSOPejw7C"
      },
      "source": [
        "##Criação dos KNN"
      ]
    },
    {
      "cell_type": "code",
      "metadata": {
        "id": "3De_CHwrm1qr"
      },
      "source": [
        "def calc_neighbors(k,x_train,x_test,sample):\n",
        "  dists = {}\n",
        "  ind = 0\n",
        "  for sample_train in x_train.index:\n",
        "    dist = distance.euclidean(x_train.loc[sample_train],x_test.loc[sample])\n",
        "    dists[ind] = [dist, sample_train]\n",
        "    ind+=1\n",
        "  k_neigh = sorted(dists, key= dists.get)[:k]\n",
        "  index_neigh = []\n",
        "  for j in k_neigh:\n",
        "    index_neigh.append(dists[j][1])\n",
        "  return index_neigh"
      ],
      "execution_count": 4,
      "outputs": []
    },
    {
      "cell_type": "code",
      "metadata": {
        "id": "OfBwE_d_5zhJ"
      },
      "source": [
        "def calc_class(sample_neighbors,y_train):\n",
        "  out = []\n",
        "\n",
        "  for i in sample_neighbors:\n",
        "    out.append(y_train[i])\n",
        "\n",
        "  try:  \n",
        "    result = statistics.mode(out)\n",
        "  except:\n",
        "    result = out[0]\n",
        "\n",
        "  return result"
      ],
      "execution_count": 5,
      "outputs": []
    },
    {
      "cell_type": "code",
      "metadata": {
        "id": "w9EDuYFsjz91"
      },
      "source": [
        "def my_own_knn(k,x_train,x_test,y_train):\n",
        "  time_start = time.time()\n",
        "\n",
        "  y_model = []\n",
        "\n",
        "  for sample in x_test.index:\n",
        "    sample_neighbors = calc_neighbors(k,x_train,x_test,sample)\n",
        "\n",
        "    sample_class = calc_class(sample_neighbors,y_train)\n",
        "\n",
        "    y_model.append(sample_class)\n",
        "\n",
        "  time_total = time.time() - time_start \n",
        "\n",
        "  return [y_model,time_total]"
      ],
      "execution_count": 6,
      "outputs": []
    },
    {
      "cell_type": "code",
      "metadata": {
        "id": "eVuRb4n4L0tg"
      },
      "source": [
        "def my_knn(k,x_train,x_test,y_train):\n",
        "  time_start = time.time()\n",
        "\n",
        "  model = KNeighborsClassifier(n_neighbors=k, weights='uniform')\n",
        "  model.fit(x_train, y_train)\n",
        "  y_model = model.predict(x_test)\n",
        "  \n",
        "  time_total = time.time() - time_start \n",
        "\n",
        "  return [y_model,time_total]"
      ],
      "execution_count": 7,
      "outputs": []
    },
    {
      "cell_type": "markdown",
      "metadata": {
        "id": "YBpNJIlX9lgJ"
      },
      "source": [
        "##Criação do Random Forests"
      ]
    },
    {
      "cell_type": "code",
      "metadata": {
        "id": "1NOq2S309rqc"
      },
      "source": [
        "def my_randomForests(n,x_train,x_test,y_train):\n",
        "  time_start = time.time()\n",
        "\n",
        "  model = RandomForestClassifier(n_estimators=n)\n",
        "  model.fit(x_train, y_train)\n",
        "  y_model = model.predict(x_test)\n",
        "\n",
        "  time_total = time.time() - time_start \n",
        "\n",
        "  return [y_model,time_total]"
      ],
      "execution_count": 8,
      "outputs": []
    },
    {
      "cell_type": "markdown",
      "metadata": {
        "id": "2hfZNhaS994n"
      },
      "source": [
        "##Criação do SVM"
      ]
    },
    {
      "cell_type": "code",
      "metadata": {
        "id": "LpE_ahH3-BMh"
      },
      "source": [
        "def my_svm(x_train,x_test,y_train):\n",
        "  time_start = time.time()\n",
        "\n",
        "  model = SVC(kernel = 'linear', random_state = 0)\n",
        "  \n",
        "  model.fit(x_train, y_train)\n",
        "  y_model = model.predict(x_test)\n",
        "\n",
        "  time_total = time.time() - time_start \n",
        "\n",
        "  return [y_model,time_total]"
      ],
      "execution_count": 9,
      "outputs": []
    },
    {
      "cell_type": "markdown",
      "metadata": {
        "id": "YcQygmpdlP4g"
      },
      "source": [
        "#Rodar algoritmos"
      ]
    },
    {
      "cell_type": "markdown",
      "metadata": {
        "id": "IVav6BytAyRg"
      },
      "source": [
        "## Separação dos algoritmos"
      ]
    },
    {
      "cell_type": "code",
      "metadata": {
        "id": "YC1hwB1ylVwq"
      },
      "source": [
        "x_train, x_test, y_train, y_test = train_test_split(data['pcr_balanced'].drop('Class',axis=1),data['pcr_balanced']['Class'],test_size=0.25, stratify=data['pcr_balanced']['Class'])"
      ],
      "execution_count": 10,
      "outputs": []
    },
    {
      "cell_type": "markdown",
      "metadata": {
        "id": "qx7bk7IQA2fi"
      },
      "source": [
        "## Funções para melhor separação do código"
      ]
    },
    {
      "cell_type": "code",
      "metadata": {
        "id": "kVFQQQgoABpr"
      },
      "source": [
        "def print_metrics(result, y_test, time):\n",
        "  print(\"   Tempo: \",time,\"segundos\")\n",
        "  print(\"   Acurácia: \",accuracy_score(y_test, result))\n",
        "  print(\"\\n\")"
      ],
      "execution_count": 11,
      "outputs": []
    },
    {
      "cell_type": "code",
      "metadata": {
        "id": "waCserAz8YVT"
      },
      "source": [
        "def run_my_knn(k, x_train, x_test, y_train, y_test):\n",
        "  result,time = my_own_knn(k,x_train,x_test,y_train)\n",
        "  print(\"Meu KNN,\",k,\"vizinhos:\")\n",
        "  print_metrics(result,y_test,time)"
      ],
      "execution_count": 12,
      "outputs": []
    },
    {
      "cell_type": "code",
      "metadata": {
        "id": "K0ynrgCy8w1r"
      },
      "source": [
        "def run_knn(k, x_train, x_test, y_train, y_test):\n",
        "  result,time = my_knn(k,x_train,x_test,y_train)\n",
        "  print(\"KNN,\",k,\"vizinhos:\")\n",
        "  print_metrics(result,y_test,time)"
      ],
      "execution_count": 13,
      "outputs": []
    },
    {
      "cell_type": "code",
      "metadata": {
        "id": "8utOnrVECMtS"
      },
      "source": [
        "def run_decisionTree(x_train, x_test, y_train, y_test):\n",
        "  result,time = my_decisionTree(x_train,x_test,y_train)\n",
        "  print(\"Decision Tree:\")\n",
        "  print_metrics(result,y_test,time)"
      ],
      "execution_count": 14,
      "outputs": []
    },
    {
      "cell_type": "code",
      "metadata": {
        "id": "aU9LmvTbCgf5"
      },
      "source": [
        "def run_randomForest(n,x_train, x_test, y_train, y_test):\n",
        "  result,time = my_randomForests(n,x_train,x_test,y_train)\n",
        "  print(\"Random Forests, \",n,\"arvoes:\")\n",
        "  print_metrics(result,y_test,time)"
      ],
      "execution_count": 15,
      "outputs": []
    },
    {
      "cell_type": "code",
      "metadata": {
        "id": "D0I9g0TdECYa"
      },
      "source": [
        "def run_svm(x_train, x_test, y_train, y_test):\n",
        "  result,time = my_svm(x_train,x_test,y_train)\n",
        "  print(\"SVM:\")\n",
        "  print_metrics(result,y_test,time)"
      ],
      "execution_count": 16,
      "outputs": []
    },
    {
      "cell_type": "markdown",
      "metadata": {
        "id": "my0xI7usBBC8"
      },
      "source": [
        "## Resultados dos algoritmos"
      ]
    },
    {
      "cell_type": "code",
      "metadata": {
        "colab": {
          "base_uri": "https://localhost:8080/"
        },
        "id": "DmoRxsH2AWFk",
        "outputId": "e75fa2c0-3db6-4fc2-89f5-62e2c8efd186"
      },
      "source": [
        "Ks = [1,3,5,7,9,11,13,15]\n",
        "Ns = [100,300,500,700,900,1000]\n",
        "for type_data in data.keys():\n",
        "\n",
        "  print(\"\\n\",\"----- Rodando algoritmos com o dataset:\",type_data,\"-----\\n\")\n",
        "  print(\"Quantidade total do dataset:\",data[type_data].shape[0])\n",
        "  print(\"quantidade de positivos:\", data[type_data]['Class'][data[type_data]['Class']== 1].size)\n",
        "  print(\"Quantidade de negativos:\", data[type_data]['Class'][data[type_data]['Class']== 0].size,\"\\n\")\n",
        "  x_train, x_test, y_train, y_test = train_test_split(data[type_data].drop('Class',axis=1),data[type_data]['Class'],test_size=0.25, stratify=data[type_data]['Class'])\n",
        "\n",
        "  # for i in Ks:\n",
        "    # run_my_knn(1,x_train, x_test, y_train, y_test)\n",
        "\n",
        "  for i in Ks:\n",
        "    run_knn(i,x_train, x_test, y_train, y_test)\n",
        "\n",
        "  run_decisionTree(x_train, x_test, y_train, y_test)\n",
        "\n",
        "  for n in Ns:\n",
        "    run_randomForest(n,x_train, x_test, y_train, y_test)\n",
        "\n",
        "  run_svm(x_train, x_test, y_train, y_test)"
      ],
      "execution_count": 17,
      "outputs": [
        {
          "output_type": "stream",
          "text": [
            "\n",
            " ----- Rodando algoritmos com o dataset: pcr_balanced -----\n",
            "\n",
            "Quantidade total do dataset: 1832\n",
            "quantidade de positivos: 916\n",
            "Quantidade de negativos: 916 \n",
            "\n",
            "KNN, 1 vizinhos:\n",
            "   Tempo:  0.021926403045654297 segundos\n",
            "   Acurácia:  0.9497816593886463\n",
            "\n",
            "\n",
            "KNN, 3 vizinhos:\n",
            "   Tempo:  0.024843692779541016 segundos\n",
            "   Acurácia:  0.9432314410480349\n",
            "\n",
            "\n",
            "KNN, 5 vizinhos:\n",
            "   Tempo:  0.02928924560546875 segundos\n",
            "   Acurácia:  0.9213973799126638\n",
            "\n",
            "\n",
            "KNN, 7 vizinhos:\n",
            "   Tempo:  0.028836727142333984 segundos\n",
            "   Acurácia:  0.925764192139738\n",
            "\n",
            "\n",
            "KNN, 9 vizinhos:\n",
            "   Tempo:  0.02570652961730957 segundos\n",
            "   Acurácia:  0.9235807860262009\n",
            "\n",
            "\n",
            "KNN, 11 vizinhos:\n",
            "   Tempo:  0.032793521881103516 segundos\n",
            "   Acurácia:  0.9235807860262009\n",
            "\n",
            "\n",
            "KNN, 13 vizinhos:\n",
            "   Tempo:  0.03481864929199219 segundos\n",
            "   Acurácia:  0.9235807860262009\n",
            "\n",
            "\n",
            "KNN, 15 vizinhos:\n",
            "   Tempo:  0.027601003646850586 segundos\n",
            "   Acurácia:  0.9213973799126638\n",
            "\n",
            "\n",
            "Decision Tree:\n",
            "   Tempo:  0.00456690788269043 segundos\n",
            "   Acurácia:  0.9563318777292577\n",
            "\n",
            "\n",
            "Random Forests,  100 arvoes:\n",
            "   Tempo:  0.18890118598937988 segundos\n",
            "   Acurácia:  0.9585152838427947\n",
            "\n",
            "\n",
            "Random Forests,  300 arvoes:\n",
            "   Tempo:  0.5949723720550537 segundos\n",
            "   Acurácia:  0.9606986899563319\n",
            "\n",
            "\n",
            "Random Forests,  500 arvoes:\n",
            "   Tempo:  0.9770641326904297 segundos\n",
            "   Acurácia:  0.962882096069869\n",
            "\n",
            "\n",
            "Random Forests,  700 arvoes:\n",
            "   Tempo:  1.3194446563720703 segundos\n",
            "   Acurácia:  0.962882096069869\n",
            "\n",
            "\n",
            "Random Forests,  900 arvoes:\n",
            "   Tempo:  1.6777629852294922 segundos\n",
            "   Acurácia:  0.962882096069869\n",
            "\n",
            "\n",
            "Random Forests,  1000 arvoes:\n",
            "   Tempo:  1.8216521739959717 segundos\n",
            "   Acurácia:  0.962882096069869\n",
            "\n",
            "\n",
            "SVM:\n",
            "   Tempo:  0.028357744216918945 segundos\n",
            "   Acurácia:  0.8406113537117904\n",
            "\n",
            "\n",
            "\n",
            " ----- Rodando algoritmos com o dataset: pcr_unbalanced -----\n",
            "\n",
            "Quantidade total do dataset: 2779\n",
            "quantidade de positivos: 1863\n",
            "Quantidade de negativos: 916 \n",
            "\n",
            "KNN, 1 vizinhos:\n",
            "   Tempo:  0.03491497039794922 segundos\n",
            "   Acurácia:  0.9741007194244604\n",
            "\n",
            "\n",
            "KNN, 3 vizinhos:\n",
            "   Tempo:  0.03975987434387207 segundos\n",
            "   Acurácia:  0.9726618705035971\n",
            "\n",
            "\n",
            "KNN, 5 vizinhos:\n",
            "   Tempo:  0.038193464279174805 segundos\n",
            "   Acurácia:  0.958273381294964\n",
            "\n",
            "\n",
            "KNN, 7 vizinhos:\n",
            "   Tempo:  0.04629373550415039 segundos\n",
            "   Acurácia:  0.962589928057554\n",
            "\n",
            "\n",
            "KNN, 9 vizinhos:\n",
            "   Tempo:  0.04055428504943848 segundos\n",
            "   Acurácia:  0.9568345323741008\n",
            "\n",
            "\n",
            "KNN, 11 vizinhos:\n",
            "   Tempo:  0.051114797592163086 segundos\n",
            "   Acurácia:  0.9510791366906475\n",
            "\n",
            "\n",
            "KNN, 13 vizinhos:\n",
            "   Tempo:  0.04271841049194336 segundos\n",
            "   Acurácia:  0.9482014388489208\n",
            "\n",
            "\n",
            "KNN, 15 vizinhos:\n",
            "   Tempo:  0.05237746238708496 segundos\n",
            "   Acurácia:  0.9482014388489208\n",
            "\n",
            "\n",
            "Decision Tree:\n",
            "   Tempo:  0.00920414924621582 segundos\n",
            "   Acurácia:  0.9697841726618706\n",
            "\n",
            "\n",
            "Random Forests,  100 arvoes:\n",
            "   Tempo:  0.21721792221069336 segundos\n",
            "   Acurácia:  0.9712230215827338\n",
            "\n",
            "\n",
            "Random Forests,  300 arvoes:\n",
            "   Tempo:  0.6224348545074463 segundos\n",
            "   Acurácia:  0.9712230215827338\n",
            "\n",
            "\n",
            "Random Forests,  500 arvoes:\n",
            "   Tempo:  1.1162652969360352 segundos\n",
            "   Acurácia:  0.9712230215827338\n",
            "\n",
            "\n",
            "Random Forests,  700 arvoes:\n",
            "   Tempo:  1.4403247833251953 segundos\n",
            "   Acurácia:  0.9712230215827338\n",
            "\n",
            "\n",
            "Random Forests,  900 arvoes:\n",
            "   Tempo:  1.8574366569519043 segundos\n",
            "   Acurácia:  0.9712230215827338\n",
            "\n",
            "\n",
            "Random Forests,  1000 arvoes:\n",
            "   Tempo:  2.076338291168213 segundos\n",
            "   Acurácia:  0.9712230215827338\n",
            "\n",
            "\n",
            "SVM:\n",
            "   Tempo:  0.04724907875061035 segundos\n",
            "   Acurácia:  0.883453237410072\n",
            "\n",
            "\n",
            "\n",
            " ----- Rodando algoritmos com o dataset: rapid_balanced -----\n",
            "\n",
            "Quantidade total do dataset: 1296\n",
            "quantidade de positivos: 648\n",
            "Quantidade de negativos: 648 \n",
            "\n",
            "KNN, 1 vizinhos:\n",
            "   Tempo:  0.01595926284790039 segundos\n",
            "   Acurácia:  0.9351851851851852\n",
            "\n",
            "\n",
            "KNN, 3 vizinhos:\n",
            "   Tempo:  0.018441438674926758 segundos\n",
            "   Acurácia:  0.941358024691358\n",
            "\n",
            "\n",
            "KNN, 5 vizinhos:\n",
            "   Tempo:  0.02791452407836914 segundos\n",
            "   Acurácia:  0.9320987654320988\n",
            "\n",
            "\n",
            "KNN, 7 vizinhos:\n",
            "   Tempo:  0.021348237991333008 segundos\n",
            "   Acurácia:  0.9197530864197531\n",
            "\n",
            "\n",
            "KNN, 9 vizinhos:\n",
            "   Tempo:  0.02003026008605957 segundos\n",
            "   Acurácia:  0.9197530864197531\n",
            "\n",
            "\n",
            "KNN, 11 vizinhos:\n",
            "   Tempo:  0.020833492279052734 segundos\n",
            "   Acurácia:  0.9166666666666666\n",
            "\n",
            "\n",
            "KNN, 13 vizinhos:\n",
            "   Tempo:  0.02307415008544922 segundos\n",
            "   Acurácia:  0.9166666666666666\n",
            "\n",
            "\n",
            "KNN, 15 vizinhos:\n",
            "   Tempo:  0.02325296401977539 segundos\n",
            "   Acurácia:  0.9197530864197531\n",
            "\n",
            "\n",
            "Decision Tree:\n",
            "   Tempo:  0.003336668014526367 segundos\n",
            "   Acurácia:  0.941358024691358\n",
            "\n",
            "\n",
            "Random Forests,  100 arvoes:\n",
            "   Tempo:  0.17830944061279297 segundos\n",
            "   Acurácia:  0.9629629629629629\n",
            "\n",
            "\n",
            "Random Forests,  300 arvoes:\n",
            "   Tempo:  0.5286047458648682 segundos\n",
            "   Acurácia:  0.9660493827160493\n",
            "\n",
            "\n",
            "Random Forests,  500 arvoes:\n",
            "   Tempo:  0.8856425285339355 segundos\n",
            "   Acurácia:  0.9629629629629629\n",
            "\n",
            "\n",
            "Random Forests,  700 arvoes:\n",
            "   Tempo:  1.2112555503845215 segundos\n",
            "   Acurácia:  0.9629629629629629\n",
            "\n",
            "\n",
            "Random Forests,  900 arvoes:\n",
            "   Tempo:  1.5573210716247559 segundos\n",
            "   Acurácia:  0.9629629629629629\n",
            "\n",
            "\n",
            "Random Forests,  1000 arvoes:\n",
            "   Tempo:  1.7635369300842285 segundos\n",
            "   Acurácia:  0.9598765432098766\n",
            "\n",
            "\n",
            "SVM:\n",
            "   Tempo:  0.012020111083984375 segundos\n",
            "   Acurácia:  0.8611111111111112\n",
            "\n",
            "\n",
            "\n",
            " ----- Rodando algoritmos com o dataset: rapid_unbalanced -----\n",
            "\n",
            "Quantidade total do dataset: 17242\n",
            "quantidade de positivos: 16594\n",
            "Quantidade de negativos: 648 \n",
            "\n",
            "KNN, 1 vizinhos:\n",
            "   Tempo:  0.4575691223144531 segundos\n",
            "   Acurácia:  0.988169798190675\n",
            "\n",
            "\n",
            "KNN, 3 vizinhos:\n",
            "   Tempo:  0.4835505485534668 segundos\n",
            "   Acurácia:  0.9853862212943633\n",
            "\n",
            "\n",
            "KNN, 5 vizinhos:\n",
            "   Tempo:  0.5117404460906982 segundos\n",
            "   Acurácia:  0.9832985386221295\n",
            "\n",
            "\n",
            "KNN, 7 vizinhos:\n",
            "   Tempo:  0.5295312404632568 segundos\n",
            "   Acurácia:  0.9816747854326142\n",
            "\n",
            "\n",
            "KNN, 9 vizinhos:\n",
            "   Tempo:  0.5375983715057373 segundos\n",
            "   Acurácia:  0.9805149617258176\n",
            "\n",
            "\n",
            "KNN, 11 vizinhos:\n",
            "   Tempo:  0.5538361072540283 segundos\n",
            "   Acurácia:  0.9788912085363025\n",
            "\n",
            "\n",
            "KNN, 13 vizinhos:\n",
            "   Tempo:  0.5765879154205322 segundos\n",
            "   Acurácia:  0.9784272790535838\n",
            "\n",
            "\n",
            "KNN, 15 vizinhos:\n",
            "   Tempo:  0.6002275943756104 segundos\n",
            "   Acurácia:  0.9786592437949432\n",
            "\n",
            "\n",
            "Decision Tree:\n",
            "   Tempo:  0.009792566299438477 segundos\n",
            "   Acurácia:  0.9856181860357226\n",
            "\n",
            "\n",
            "Random Forests,  100 arvoes:\n",
            "   Tempo:  0.48105621337890625 segundos\n",
            "   Acurácia:  0.9870099744838785\n",
            "\n",
            "\n",
            "Random Forests,  300 arvoes:\n",
            "   Tempo:  1.4512743949890137 segundos\n",
            "   Acurácia:  0.9872419392252377\n",
            "\n",
            "\n",
            "Random Forests,  500 arvoes:\n",
            "   Tempo:  2.408851385116577 segundos\n",
            "   Acurácia:  0.9874739039665971\n",
            "\n",
            "\n",
            "Random Forests,  700 arvoes:\n",
            "   Tempo:  3.3566250801086426 segundos\n",
            "   Acurácia:  0.9874739039665971\n",
            "\n",
            "\n",
            "Random Forests,  900 arvoes:\n",
            "   Tempo:  4.263084411621094 segundos\n",
            "   Acurácia:  0.9872419392252377\n",
            "\n",
            "\n",
            "Random Forests,  1000 arvoes:\n",
            "   Tempo:  4.7894275188446045 segundos\n",
            "   Acurácia:  0.9872419392252377\n",
            "\n",
            "\n",
            "SVM:\n",
            "   Tempo:  0.32538461685180664 segundos\n",
            "   Acurácia:  0.9624217118997912\n",
            "\n",
            "\n",
            "\n",
            " ----- Rodando algoritmos com o dataset: both_test_balanced -----\n",
            "\n",
            "Quantidade total do dataset: 3128\n",
            "quantidade de positivos: 1564\n",
            "Quantidade de negativos: 1564 \n",
            "\n",
            "KNN, 1 vizinhos:\n",
            "   Tempo:  0.04205751419067383 segundos\n",
            "   Acurácia:  0.8631713554987213\n",
            "\n",
            "\n",
            "KNN, 3 vizinhos:\n",
            "   Tempo:  0.04466700553894043 segundos\n",
            "   Acurácia:  0.8631713554987213\n",
            "\n",
            "\n",
            "KNN, 5 vizinhos:\n",
            "   Tempo:  0.05048251152038574 segundos\n",
            "   Acurácia:  0.8529411764705882\n",
            "\n",
            "\n",
            "KNN, 7 vizinhos:\n",
            "   Tempo:  0.05702829360961914 segundos\n",
            "   Acurácia:  0.8618925831202046\n",
            "\n",
            "\n",
            "KNN, 9 vizinhos:\n",
            "   Tempo:  0.05221891403198242 segundos\n",
            "   Acurácia:  0.8631713554987213\n",
            "\n",
            "\n",
            "KNN, 11 vizinhos:\n",
            "   Tempo:  0.06002926826477051 segundos\n",
            "   Acurácia:  0.8554987212276215\n",
            "\n",
            "\n",
            "KNN, 13 vizinhos:\n",
            "   Tempo:  0.05235457420349121 segundos\n",
            "   Acurácia:  0.8465473145780051\n",
            "\n",
            "\n",
            "KNN, 15 vizinhos:\n",
            "   Tempo:  0.05685544013977051 segundos\n",
            "   Acurácia:  0.8567774936061381\n",
            "\n",
            "\n",
            "Decision Tree:\n",
            "   Tempo:  0.005526065826416016 segundos\n",
            "   Acurácia:  0.8785166240409207\n",
            "\n",
            "\n",
            "Random Forests,  100 arvoes:\n",
            "   Tempo:  0.23279452323913574 segundos\n",
            "   Acurácia:  0.8746803069053708\n",
            "\n",
            "\n",
            "Random Forests,  300 arvoes:\n",
            "   Tempo:  0.6918184757232666 segundos\n",
            "   Acurácia:  0.8772378516624041\n",
            "\n",
            "\n",
            "Random Forests,  500 arvoes:\n",
            "   Tempo:  1.1377568244934082 segundos\n",
            "   Acurácia:  0.8797953964194374\n",
            "\n",
            "\n",
            "Random Forests,  700 arvoes:\n",
            "   Tempo:  1.5912437438964844 segundos\n",
            "   Acurácia:  0.881074168797954\n",
            "\n",
            "\n",
            "Random Forests,  900 arvoes:\n",
            "   Tempo:  2.0213541984558105 segundos\n",
            "   Acurácia:  0.8785166240409207\n",
            "\n",
            "\n",
            "Random Forests,  1000 arvoes:\n",
            "   Tempo:  2.2545158863067627 segundos\n",
            "   Acurácia:  0.8797953964194374\n",
            "\n",
            "\n",
            "SVM:\n",
            "   Tempo:  0.07792139053344727 segundos\n",
            "   Acurácia:  0.7966751918158568\n",
            "\n",
            "\n",
            "\n",
            " ----- Rodando algoritmos com o dataset: both_test_unbalanced -----\n",
            "\n",
            "Quantidade total do dataset: 20021\n",
            "quantidade de positivos: 18457\n",
            "Quantidade de negativos: 1564 \n",
            "\n",
            "KNN, 1 vizinhos:\n",
            "   Tempo:  0.5655121803283691 segundos\n",
            "   Acurácia:  0.9282860567319217\n",
            "\n",
            "\n",
            "KNN, 3 vizinhos:\n",
            "   Tempo:  0.6138334274291992 segundos\n",
            "   Acurácia:  0.9402716739912106\n",
            "\n",
            "\n",
            "KNN, 5 vizinhos:\n",
            "   Tempo:  0.6270031929016113 segundos\n",
            "   Acurácia:  0.9400719137035557\n",
            "\n",
            "\n",
            "KNN, 7 vizinhos:\n",
            "   Tempo:  0.6434698104858398 segundos\n",
            "   Acurácia:  0.9398721534159009\n",
            "\n",
            "\n",
            "KNN, 9 vizinhos:\n",
            "   Tempo:  0.6614267826080322 segundos\n",
            "   Acurácia:  0.9412704754294846\n",
            "\n",
            "\n",
            "KNN, 11 vizinhos:\n",
            "   Tempo:  0.6786251068115234 segundos\n",
            "   Acurácia:  0.9390731122652817\n",
            "\n",
            "\n",
            "KNN, 13 vizinhos:\n",
            "   Tempo:  0.687873125076294 segundos\n",
            "   Acurácia:  0.9390731122652817\n",
            "\n",
            "\n",
            "KNN, 15 vizinhos:\n",
            "   Tempo:  0.7313797473907471 segundos\n",
            "   Acurácia:  0.9408709548541749\n",
            "\n",
            "\n",
            "Decision Tree:\n",
            "   Tempo:  0.011343240737915039 segundos\n",
            "   Acurácia:  0.9464642429085098\n",
            "\n",
            "\n",
            "Random Forests,  100 arvoes:\n",
            "   Tempo:  0.5764346122741699 segundos\n",
            "   Acurácia:  0.9462644826208549\n",
            "\n",
            "\n",
            "Random Forests,  300 arvoes:\n",
            "   Tempo:  1.7349863052368164 segundos\n",
            "   Acurácia:  0.9466640031961646\n",
            "\n",
            "\n",
            "Random Forests,  500 arvoes:\n",
            "   Tempo:  2.897550344467163 segundos\n",
            "   Acurácia:  0.9462644826208549\n",
            "\n",
            "\n",
            "Random Forests,  700 arvoes:\n",
            "   Tempo:  4.006800889968872 segundos\n",
            "   Acurácia:  0.9462644826208549\n",
            "\n",
            "\n",
            "Random Forests,  900 arvoes:\n",
            "   Tempo:  5.148155689239502 segundos\n",
            "   Acurácia:  0.9462644826208549\n",
            "\n",
            "\n",
            "Random Forests,  1000 arvoes:\n",
            "   Tempo:  5.774952173233032 segundos\n",
            "   Acurácia:  0.9464642429085098\n",
            "\n",
            "\n",
            "SVM:\n",
            "   Tempo:  0.8888833522796631 segundos\n",
            "   Acurácia:  0.9218937275269676\n",
            "\n",
            "\n"
          ],
          "name": "stdout"
        }
      ]
    }
  ]
}